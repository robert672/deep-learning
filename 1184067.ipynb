{
 "cells": [
  {
   "cell_type": "markdown",
   "metadata": {
    "collapsed": false
   },
   "source": [
    "# 如果一个小姐姐不够，那就三个小姐姐一起来\n",
    "\n",
    "通过deeplabv3p_xception65_humanseg实现一键抠图\n",
    "\n"
   ]
  },
  {
   "cell_type": "markdown",
   "metadata": {
    "collapsed": false
   },
   "source": [
    "## DeepLabv3+ 介绍\n",
    " [DeepLabv3+](https://arxiv.org/abs/1802.02611)是DeepLab语义分割系列网络的最新作，其前作有 [DeepLabv1](http://arxiv.org/pdf/1412.7062v3.pdf)，[DeepLabv2](https://arxiv.org/pdf/1606.00915.pdf), [DeepLabv3](https://arxiv.org/abs/1802.02611),\n",
    "在最新作中，DeepLab的作者通过encoder-decoder进行多尺度信息的融合，同时保留了原来的空洞卷积和ASPP层，\n",
    "其骨干网络使用了Xception模型，提高了语义分割的健壮性和运行速率，在 PASCAL VOC 2012 dataset取得新的state-of-art performance，89.0mIOU。\n",
    "\n",
    "在PaddleSeg当前实现中，支持两种backbone\n",
    "\n",
    "MobileNetV2:\n",
    "适用于移动设备的快速网络，如果对分割性能有较高的要求，请使用这一backbone网络。\n",
    "\n",
    "Xception:\n",
    "DeepLabv3+原始实现的backbone网络，兼顾了精度和性能，适用于服务端部署。\n",
    "\n",
    "![](https://ai-studio-static-online.cdn.bcebos.com/83acbe5790e24e84b3ea4ea8e181421d9f709aa8803e414986d66a40ae0c5cf5)\n",
    "\n",
    "#### ASPP (Atrous Spatial Pyramid Pooling)\n",
    "通过不同采样率的空洞卷积获取不同尺度的特征信息。具体可参见[DeepLabv2](https://arxiv.org/pdf/1606.00915.pdf)\n",
    "![](https://ai-studio-static-online.cdn.bcebos.com/39495f7947d24f818d2b988481b7f46f0235b6fcd1134bd4a30ebd3bae3d862c)\n"
   ]
  },
  {
   "cell_type": "markdown",
   "metadata": {
    "collapsed": false
   },
   "source": [
    "## 一、设置必要环境\n"
   ]
  },
  {
   "cell_type": "code",
   "execution_count": 1,
   "metadata": {
    "collapsed": false
   },
   "outputs": [
    {
     "name": "stdout",
     "output_type": "stream",
     "text": [
      "Looking in indexes: https://pypi.tuna.tsinghua.edu.cn/simple\n",
      "Requirement already satisfied: paddlehub==1.6.2 in /opt/conda/envs/python35-paddle120-env/lib/python3.7/site-packages (1.6.2)\n",
      "Requirement already satisfied: tensorboard>=1.15 in /opt/conda/envs/python35-paddle120-env/lib/python3.7/site-packages (from paddlehub==1.6.2) (2.1.0)\n",
      "Requirement already satisfied: Pillow in /opt/conda/envs/python35-paddle120-env/lib/python3.7/site-packages (from paddlehub==1.6.2) (7.1.2)\n",
      "Requirement already satisfied: pandas; python_version >= \"3\" in /opt/conda/envs/python35-paddle120-env/lib/python3.7/site-packages (from paddlehub==1.6.2) (0.23.4)\n",
      "Requirement already satisfied: nltk in /opt/conda/envs/python35-paddle120-env/lib/python3.7/site-packages (from paddlehub==1.6.2) (3.4.5)\n",
      "Requirement already satisfied: colorlog in /opt/conda/envs/python35-paddle120-env/lib/python3.7/site-packages (from paddlehub==1.6.2) (4.1.0)\n",
      "Requirement already satisfied: flask>=1.1.0 in /opt/conda/envs/python35-paddle120-env/lib/python3.7/site-packages (from paddlehub==1.6.2) (1.1.1)\n",
      "Requirement already satisfied: pre-commit in /opt/conda/envs/python35-paddle120-env/lib/python3.7/site-packages (from paddlehub==1.6.2) (1.21.0)\n",
      "Requirement already satisfied: gunicorn>=19.10.0; sys_platform != \"win32\" in /opt/conda/envs/python35-paddle120-env/lib/python3.7/site-packages (from paddlehub==1.6.2) (20.0.4)\n",
      "Requirement already satisfied: cma==2.7.0 in /opt/conda/envs/python35-paddle120-env/lib/python3.7/site-packages (from paddlehub==1.6.2) (2.7.0)\n",
      "Requirement already satisfied: pyyaml in /opt/conda/envs/python35-paddle120-env/lib/python3.7/site-packages (from paddlehub==1.6.2) (5.1.2)\n",
      "Requirement already satisfied: sentencepiece in /opt/conda/envs/python35-paddle120-env/lib/python3.7/site-packages (from paddlehub==1.6.2) (0.1.85)\n",
      "Requirement already satisfied: opencv-python in /opt/conda/envs/python35-paddle120-env/lib/python3.7/site-packages (from paddlehub==1.6.2) (4.1.1.26)\n",
      "Requirement already satisfied: flake8 in /opt/conda/envs/python35-paddle120-env/lib/python3.7/site-packages (from paddlehub==1.6.2) (3.8.2)\n",
      "Requirement already satisfied: protobuf>=3.6.0 in /opt/conda/envs/python35-paddle120-env/lib/python3.7/site-packages (from paddlehub==1.6.2) (3.12.2)\n",
      "Requirement already satisfied: requests in /opt/conda/envs/python35-paddle120-env/lib/python3.7/site-packages (from paddlehub==1.6.2) (2.22.0)\n",
      "Requirement already satisfied: yapf==0.26.0 in /opt/conda/envs/python35-paddle120-env/lib/python3.7/site-packages (from paddlehub==1.6.2) (0.26.0)\n",
      "Requirement already satisfied: tb-paddle in /opt/conda/envs/python35-paddle120-env/lib/python3.7/site-packages (from paddlehub==1.6.2) (0.3.6)\n",
      "Requirement already satisfied: six>=1.10.0 in /opt/conda/envs/python35-paddle120-env/lib/python3.7/site-packages (from paddlehub==1.6.2) (1.15.0)\n",
      "Requirement already satisfied: chardet==3.0.4 in /opt/conda/envs/python35-paddle120-env/lib/python3.7/site-packages (from paddlehub==1.6.2) (3.0.4)\n",
      "Requirement already satisfied: numpy; python_version >= \"3\" in /opt/conda/envs/python35-paddle120-env/lib/python3.7/site-packages (from paddlehub==1.6.2) (1.16.4)\n",
      "Requirement already satisfied: grpcio>=1.24.3 in /opt/conda/envs/python35-paddle120-env/lib/python3.7/site-packages (from tensorboard>=1.15->paddlehub==1.6.2) (1.26.0)\n",
      "Requirement already satisfied: google-auth<2,>=1.6.3 in /opt/conda/envs/python35-paddle120-env/lib/python3.7/site-packages (from tensorboard>=1.15->paddlehub==1.6.2) (1.10.0)\n",
      "Requirement already satisfied: absl-py>=0.4 in /opt/conda/envs/python35-paddle120-env/lib/python3.7/site-packages (from tensorboard>=1.15->paddlehub==1.6.2) (0.8.1)\n",
      "Requirement already satisfied: google-auth-oauthlib<0.5,>=0.4.1 in /opt/conda/envs/python35-paddle120-env/lib/python3.7/site-packages (from tensorboard>=1.15->paddlehub==1.6.2) (0.4.1)\n",
      "Requirement already satisfied: wheel>=0.26; python_version >= \"3\" in /opt/conda/envs/python35-paddle120-env/lib/python3.7/site-packages (from tensorboard>=1.15->paddlehub==1.6.2) (0.33.6)\n",
      "Requirement already satisfied: setuptools>=41.0.0 in /opt/conda/envs/python35-paddle120-env/lib/python3.7/site-packages (from tensorboard>=1.15->paddlehub==1.6.2) (41.4.0)\n",
      "Requirement already satisfied: werkzeug>=0.11.15 in /opt/conda/envs/python35-paddle120-env/lib/python3.7/site-packages (from tensorboard>=1.15->paddlehub==1.6.2) (0.16.0)\n",
      "Requirement already satisfied: markdown>=2.6.8 in /opt/conda/envs/python35-paddle120-env/lib/python3.7/site-packages (from tensorboard>=1.15->paddlehub==1.6.2) (3.1.1)\n",
      "Requirement already satisfied: python-dateutil>=2.5.0 in /opt/conda/envs/python35-paddle120-env/lib/python3.7/site-packages (from pandas; python_version >= \"3\"->paddlehub==1.6.2) (2.8.0)\n",
      "Requirement already satisfied: pytz>=2011k in /opt/conda/envs/python35-paddle120-env/lib/python3.7/site-packages (from pandas; python_version >= \"3\"->paddlehub==1.6.2) (2019.3)\n",
      "Requirement already satisfied: click>=5.1 in /opt/conda/envs/python35-paddle120-env/lib/python3.7/site-packages (from flask>=1.1.0->paddlehub==1.6.2) (7.0)\n",
      "Requirement already satisfied: Jinja2>=2.10.1 in /opt/conda/envs/python35-paddle120-env/lib/python3.7/site-packages (from flask>=1.1.0->paddlehub==1.6.2) (2.10.1)\n",
      "Requirement already satisfied: itsdangerous>=0.24 in /opt/conda/envs/python35-paddle120-env/lib/python3.7/site-packages (from flask>=1.1.0->paddlehub==1.6.2) (1.1.0)\n",
      "Requirement already satisfied: importlib-metadata; python_version < \"3.8\" in /opt/conda/envs/python35-paddle120-env/lib/python3.7/site-packages (from pre-commit->paddlehub==1.6.2) (0.23)\n",
      "Requirement already satisfied: identify>=1.0.0 in /opt/conda/envs/python35-paddle120-env/lib/python3.7/site-packages (from pre-commit->paddlehub==1.6.2) (1.4.10)\n",
      "Requirement already satisfied: nodeenv>=0.11.1 in /opt/conda/envs/python35-paddle120-env/lib/python3.7/site-packages (from pre-commit->paddlehub==1.6.2) (1.3.4)\n",
      "Requirement already satisfied: toml in /opt/conda/envs/python35-paddle120-env/lib/python3.7/site-packages (from pre-commit->paddlehub==1.6.2) (0.10.0)\n",
      "Requirement already satisfied: virtualenv>=15.2 in /opt/conda/envs/python35-paddle120-env/lib/python3.7/site-packages (from pre-commit->paddlehub==1.6.2) (16.7.9)\n",
      "Requirement already satisfied: aspy.yaml in /opt/conda/envs/python35-paddle120-env/lib/python3.7/site-packages (from pre-commit->paddlehub==1.6.2) (1.3.0)\n",
      "Requirement already satisfied: cfgv>=2.0.0 in /opt/conda/envs/python35-paddle120-env/lib/python3.7/site-packages (from pre-commit->paddlehub==1.6.2) (2.0.1)\n",
      "Requirement already satisfied: mccabe<0.7.0,>=0.6.0 in /opt/conda/envs/python35-paddle120-env/lib/python3.7/site-packages (from flake8->paddlehub==1.6.2) (0.6.1)\n",
      "Requirement already satisfied: pycodestyle<2.7.0,>=2.6.0a1 in /opt/conda/envs/python35-paddle120-env/lib/python3.7/site-packages (from flake8->paddlehub==1.6.2) (2.6.0)\n",
      "Requirement already satisfied: pyflakes<2.3.0,>=2.2.0 in /opt/conda/envs/python35-paddle120-env/lib/python3.7/site-packages (from flake8->paddlehub==1.6.2) (2.2.0)\n",
      "Requirement already satisfied: idna<2.9,>=2.5 in /opt/conda/envs/python35-paddle120-env/lib/python3.7/site-packages (from requests->paddlehub==1.6.2) (2.8)\n",
      "Requirement already satisfied: certifi>=2017.4.17 in /opt/conda/envs/python35-paddle120-env/lib/python3.7/site-packages (from requests->paddlehub==1.6.2) (2019.9.11)\n",
      "Requirement already satisfied: urllib3!=1.25.0,!=1.25.1,<1.26,>=1.21.1 in /opt/conda/envs/python35-paddle120-env/lib/python3.7/site-packages (from requests->paddlehub==1.6.2) (1.25.6)\n",
      "Requirement already satisfied: moviepy in /opt/conda/envs/python35-paddle120-env/lib/python3.7/site-packages (from tb-paddle->paddlehub==1.6.2) (1.0.1)\n",
      "Requirement already satisfied: rsa<4.1,>=3.1.4 in /opt/conda/envs/python35-paddle120-env/lib/python3.7/site-packages (from google-auth<2,>=1.6.3->tensorboard>=1.15->paddlehub==1.6.2) (4.0)\n",
      "Requirement already satisfied: pyasn1-modules>=0.2.1 in /opt/conda/envs/python35-paddle120-env/lib/python3.7/site-packages (from google-auth<2,>=1.6.3->tensorboard>=1.15->paddlehub==1.6.2) (0.2.7)\n",
      "Requirement already satisfied: cachetools<5.0,>=2.0.0 in /opt/conda/envs/python35-paddle120-env/lib/python3.7/site-packages (from google-auth<2,>=1.6.3->tensorboard>=1.15->paddlehub==1.6.2) (4.0.0)\n",
      "Requirement already satisfied: requests-oauthlib>=0.7.0 in /opt/conda/envs/python35-paddle120-env/lib/python3.7/site-packages (from google-auth-oauthlib<0.5,>=0.4.1->tensorboard>=1.15->paddlehub==1.6.2) (1.3.0)\n",
      "Requirement already satisfied: MarkupSafe>=0.23 in /opt/conda/envs/python35-paddle120-env/lib/python3.7/site-packages (from Jinja2>=2.10.1->flask>=1.1.0->paddlehub==1.6.2) (1.1.1)\n",
      "Requirement already satisfied: zipp>=0.5 in /opt/conda/envs/python35-paddle120-env/lib/python3.7/site-packages (from importlib-metadata; python_version < \"3.8\"->pre-commit->paddlehub==1.6.2) (0.6.0)\n",
      "Requirement already satisfied: proglog<=1.0.0 in /opt/conda/envs/python35-paddle120-env/lib/python3.7/site-packages (from moviepy->tb-paddle->paddlehub==1.6.2) (0.1.9)\n",
      "Requirement already satisfied: imageio-ffmpeg>=0.2.0; python_version >= \"3.4\" in /opt/conda/envs/python35-paddle120-env/lib/python3.7/site-packages (from moviepy->tb-paddle->paddlehub==1.6.2) (0.3.0)\n",
      "Requirement already satisfied: imageio<3.0,>=2.5; python_version >= \"3.4\" in /opt/conda/envs/python35-paddle120-env/lib/python3.7/site-packages (from moviepy->tb-paddle->paddlehub==1.6.2) (2.6.1)\n",
      "Requirement already satisfied: tqdm<5.0,>=4.11.2 in /opt/conda/envs/python35-paddle120-env/lib/python3.7/site-packages (from moviepy->tb-paddle->paddlehub==1.6.2) (4.36.1)\n",
      "Requirement already satisfied: decorator<5.0,>=4.0.2 in /opt/conda/envs/python35-paddle120-env/lib/python3.7/site-packages (from moviepy->tb-paddle->paddlehub==1.6.2) (4.4.0)\n",
      "Requirement already satisfied: pyasn1>=0.1.3 in /opt/conda/envs/python35-paddle120-env/lib/python3.7/site-packages (from rsa<4.1,>=3.1.4->google-auth<2,>=1.6.3->tensorboard>=1.15->paddlehub==1.6.2) (0.4.8)\n",
      "Requirement already satisfied: oauthlib>=3.0.0 in /opt/conda/envs/python35-paddle120-env/lib/python3.7/site-packages (from requests-oauthlib>=0.7.0->google-auth-oauthlib<0.5,>=0.4.1->tensorboard>=1.15->paddlehub==1.6.2) (3.1.0)\n",
      "Requirement already satisfied: more-itertools in /opt/conda/envs/python35-paddle120-env/lib/python3.7/site-packages (from zipp>=0.5->importlib-metadata; python_version < \"3.8\"->pre-commit->paddlehub==1.6.2) (7.2.0)\n"
     ]
    }
   ],
   "source": [
    "!pip install paddlehub==1.6.2 -i https://pypi.tuna.tsinghua.edu.cn/simple"
   ]
  },
  {
   "cell_type": "code",
   "execution_count": 2,
   "metadata": {
    "collapsed": false
   },
   "outputs": [],
   "source": [
    "import numpy as np\r\n",
    "import matplotlib.image as mpimg\r\n",
    "import matplotlib.pyplot as plt\r\n",
    "import os\r\n",
    "from PIL import Image\r\n",
    "import paddlehub as hub\r\n",
    "import cv2\r\n",
    "from moviepy.editor import VideoFileClip\r\n",
    "import shutil\r\n"
   ]
  },
  {
   "cell_type": "code",
   "execution_count": 3,
   "metadata": {
    "collapsed": false
   },
   "outputs": [],
   "source": [
    "os.environ[\"CUDA_VISIBLE_DEVICES\"]=\"0\"#GPU模式"
   ]
  },
  {
   "cell_type": "markdown",
   "metadata": {
    "collapsed": false
   },
   "source": [
    "## 二、抠图\n",
    "通过deeplabv3p_xception65_humanseg实现一键抠图"
   ]
  },
  {
   "cell_type": "code",
   "execution_count": 4,
   "metadata": {
    "collapsed": false
   },
   "outputs": [
    {
     "name": "stdout",
     "output_type": "stream",
     "text": [
      "Video cut finish, all 308 frame\n"
     ]
    }
   ],
   "source": [
    "#视频转jpg\r\n",
    "def video_to_pic():\r\n",
    "    if os.path.exists('./video_pic'):\r\n",
    "        shutil.rmtree('./video_pic')#删除文件夹以及文件       \r\n",
    "    os.mkdir('./video_pic')#创建文件夹\r\n",
    "    index = 0\r\n",
    "    cap = cv2.VideoCapture('./xxm.mp4')\r\n",
    "    ret,frame = cap.read()\r\n",
    "    while ret:\r\n",
    "        cv2.imwrite('./video_pic/%d.jpg'%index, frame)\r\n",
    "        index += 1\r\n",
    "        ret,frame = cap.read()\r\n",
    "    cap.release()\r\n",
    "    print('Video cut finish, all %d frame' % index)\r\n",
    "video_to_pic()"
   ]
  },
  {
   "cell_type": "code",
   "execution_count": 5,
   "metadata": {
    "collapsed": false
   },
   "outputs": [],
   "source": [
    "#图片平移\r\n",
    "def tl(img_path):\r\n",
    "    '''x轴平移输出两张jpg图片,dest1,dest2'''\r\n",
    "    img = cv2.imread(img_path)\r\n",
    "    rows,cols, channel = img.shape\r\n",
    "\r\n",
    "# 平移矩阵M：[[1,0,x],[0,1,y]]\r\n",
    "    M1 = np.float32([[1,0,400],[0,1,0]])\r\n",
    "    M2 = np.float32([[1,0,-400],[0,1,0]])\r\n",
    "    dest1 = cv2.warpAffine(img,M1,(cols,rows), borderValue=(255, 255, 255))#仿射平移\r\n",
    "    dest2 = cv2.warpAffine(img,M2,(cols,rows), borderValue=(255, 255, 255))\r\n",
    "    \r\n",
    "    cv2.imwrite('./dest1'+'/'+file,dest1)#保存图片\r\n",
    "    cv2.imwrite('./dest2'+'/'+file,dest2)\r\n",
    "    # print('保存平移图片成功')"
   ]
  },
  {
   "cell_type": "code",
   "execution_count": 6,
   "metadata": {
    "collapsed": false
   },
   "outputs": [
    {
     "name": "stdout",
     "output_type": "stream",
     "text": [
      "文件已创建\n"
     ]
    }
   ],
   "source": [
    "#保存平移后的图片\r\n",
    "filename_list = os.listdir('video_pic')\r\n",
    "if os.path.exists('dest1'):\r\n",
    "    shutil.rmtree('dest1')\r\n",
    "os.mkdir('dest1')\r\n",
    "if os.path.exists('dest2'):\r\n",
    "    shutil.rmtree('dest2')\r\n",
    "os.mkdir('dest2')\r\n",
    "for file in filename_list:\r\n",
    "    tl('./video_pic'+'/'+file)\r\n",
    "print(\"文件已创建\")"
   ]
  },
  {
   "cell_type": "code",
   "execution_count": 7,
   "metadata": {
    "collapsed": false
   },
   "outputs": [
    {
     "name": "stderr",
     "output_type": "stream",
     "text": [
      "\u001b[32m[2020-11-03 10:10:38,205] [    INFO] - Installing deeplabv3p_xception65_humanseg module\u001b[0m\n",
      "\u001b[32m[2020-11-03 10:10:38,430] [    INFO] - Module deeplabv3p_xception65_humanseg already installed in /home/aistudio/.paddlehub/modules/deeplabv3p_xception65_humanseg\u001b[0m\n",
      "\u001b[32m[2020-11-03 10:11:13,063] [    INFO] - Installing deeplabv3p_xception65_humanseg module\u001b[0m\n",
      "\u001b[32m[2020-11-03 10:11:13,065] [    INFO] - Module deeplabv3p_xception65_humanseg already installed in /home/aistudio/.paddlehub/modules/deeplabv3p_xception65_humanseg\u001b[0m\n"
     ]
    },
    {
     "name": "stdout",
     "output_type": "stream",
     "text": [
      "抠图完成\n",
      "抠图完成\n"
     ]
    }
   ],
   "source": [
    "#扣出平移后图片中的人像\r\n",
    "def seg_pic(path,savepath):\r\n",
    "    i = 0\r\n",
    "    module= hub.Module(name=\"deeplabv3p_xception65_humanseg\")\r\n",
    "    pic_path = path\r\n",
    "\r\n",
    "    if os.path.exists(savepath):\r\n",
    "        shutil.rmtree(savepath)\r\n",
    "    os.mkdir(savepath)\r\n",
    "    \r\n",
    "    filename_list = os.listdir(pic_path)\r\n",
    "    filename_list.sort(key=lambda x: int(x[:-4]))#图片排序\r\n",
    "    \r\n",
    "    for fname in filename_list:\r\n",
    "        result = module.segmentation(images=[cv2.imread(pic_path+'/'+fname)], visualization=True, output_dir=savepath,use_gpu=True)\r\n",
    "        #print('已处理处理',pic_path,'图片：', i)\r\n",
    "        i+=1\r\n",
    "    \r\n",
    "    filename_list = os.listdir(savepath)\r\n",
    "    filename_list.sort()\r\n",
    "    i=0\r\n",
    "    for file in filename_list:\r\n",
    "        os.rename(savepath+'/'+file,savepath+'/'+str(i)+'.jpg')#（修改前目录名，修改后名）\r\n",
    "        i+=1\r\n",
    "    print('抠图完成')\r\n",
    "#左边原图路径，右边抠图输出路径\r\n",
    "seg_pic('dest1','res_dest1')\r\n",
    "seg_pic('dest2','res_dest2')\r\n"
   ]
  },
  {
   "cell_type": "markdown",
   "metadata": {
    "collapsed": false
   },
   "source": [
    "## 三、图像合成\n",
    "\n",
    "将抠出的人物图片合成在想要的背景图片当中。\n"
   ]
  },
  {
   "cell_type": "code",
   "execution_count": 8,
   "metadata": {
    "collapsed": false
   },
   "outputs": [
    {
     "name": "stdout",
     "output_type": "stream",
     "text": [
      "图片成功合成\n"
     ]
    }
   ],
   "source": [
    "#将扣出的人像与原图合并\n",
    "def blend_images(fore_path, base_path ,savepath):\n",
    "    \"\"\"\n",
    "    将抠出的人物图像换背景\n",
    "    fore_image: 前景图片，抠出的人物图片\n",
    "    base_image: 背景图片\n",
    "    \"\"\"\n",
    "    filename_list = os.listdir(fore_path)\n",
    "    for fname in filename_list:\n",
    "        fore_image = fore_path + '/' + fname \n",
    "        base_image = base_path + '/' + fname\n",
    "\n",
    "    # 读入图片\n",
    "        base_image = Image.open(base_image).convert('RGB')\n",
    "        fore_image = Image.open(fore_image).resize(base_image.size)\n",
    "\n",
    "    # 图片加权合成\n",
    "        scope_map = np.array(fore_image)[:,:,-1] / 255\n",
    "        scope_map = scope_map[:,:,np.newaxis]\n",
    "        scope_map = np.repeat(scope_map, repeats=3, axis=2)\n",
    "        res_image = np.multiply(scope_map, np.array(fore_image)[:,:,:3]) + np.multiply((1-scope_map), np.array(base_image))\n",
    "    \n",
    "    #保存图片\n",
    "        res_image = Image.fromarray(np.uint8(res_image))\n",
    "        res_image.save(savepath + '/' + fname)\n",
    "\n",
    "savepath = 'result_picture'\n",
    "if os.path.exists(savepath):\n",
    "    shutil.rmtree(savepath)\n",
    "os.mkdir(savepath) \n",
    "blend_images('res_dest1', 'video_pic', savepath)\n",
    "blend_images('res_dest2', 'result_picture', savepath)\n",
    "\n",
    "#删除多余文件以免混淆\n",
    "shutil.rmtree('dest1')\n",
    "shutil.rmtree('dest2')\n",
    "shutil.rmtree('res_dest1')\n",
    "shutil.rmtree('res_dest2')\n",
    "print(\"图片成功合成\")"
   ]
  },
  {
   "cell_type": "markdown",
   "metadata": {
    "collapsed": false
   },
   "source": [
    "## 四、图片转视频+音乐\n",
    "\n",
    "\n"
   ]
  },
  {
   "cell_type": "code",
   "execution_count": 9,
   "metadata": {
    "collapsed": false
   },
   "outputs": [
    {
     "name": "stdout",
     "output_type": "stream",
     "text": [
      "ok!\n",
      "Moviepy - Building video 成品.mp4.\n",
      "MoviePy - Writing audio in 成品TEMP_MPY_wvf_snd.mp3\n"
     ]
    },
    {
     "name": "stderr",
     "output_type": "stream",
     "text": [
      "                                                                   \n",
      "t:   0%|          | 0/309 [00:00<?, ?it/s, now=None]"
     ]
    },
    {
     "name": "stdout",
     "output_type": "stream",
     "text": [
      "MoviePy - Done.\n",
      "Moviepy - Writing video 成品.mp4\n",
      "\n"
     ]
    },
    {
     "name": "stderr",
     "output_type": "stream",
     "text": [
      "t: 100%|█████████▉| 308/309 [00:06<00:00, 42.18it/s, now=None]2020-11-03 10:13:34,156-WARNING: /opt/conda/envs/python35-paddle120-env/lib/python3.7/site-packages/moviepy/video/io/ffmpeg_reader.py:130: UserWarning: Warning: in file ./result.mp4, 2764800 bytes wanted but 0 bytes read,at frame 308/309, at time 10.27/10.27 sec. Using the last valid frame instead.\n",
      "  UserWarning)\n",
      "\n",
      "                                                              \r"
     ]
    },
    {
     "name": "stdout",
     "output_type": "stream",
     "text": [
      "Moviepy - Done !\n",
      "Moviepy - video ready 成品.mp4\n",
      "ok!\n"
     ]
    }
   ],
   "source": [
    "#图片变视频加配乐\r\n",
    "def merge_to_mp4():\r\n",
    "    fourcc = cv2.VideoWriter_fourcc(*'mp4v')\r\n",
    "    video= cv2.VideoCapture('./xxm.mp4')\r\n",
    "    fps = video.get(cv2.CAP_PROP_FPS)\r\n",
    "    img = Image.open('./result_picture/1.jpg')#需要整合成视频的图片路径\r\n",
    "    out = cv2.VideoWriter('result.mp4', fourcc, fps, (img.size[0], img.size[1]))\r\n",
    "    files = os.listdir('./result_picture')\r\n",
    "    files.sort(key=lambda x: int(x[:-4]))\r\n",
    "    for i in files:\r\n",
    "        img = cv2.imread('./result_picture/'+i)\r\n",
    "        out.write(img)#保存帧\r\n",
    "    out.release()\r\n",
    "    print('ok!')\r\n",
    "\r\n",
    "def add_audio():\r\n",
    "    video_origin = VideoFileClip('xxm.mp4')\r\n",
    "    audio=video_origin.audio\r\n",
    "    video_result = VideoFileClip('./result.mp4')\r\n",
    "    video_result = video_result.set_audio(audio)\r\n",
    "    video_result.write_videofile('成品.mp4')\r\n",
    "    \r\n",
    "    print('ok!')\r\n",
    "\r\n",
    "merge_to_mp4()\r\n",
    "add_audio()"
   ]
  },
  {
   "cell_type": "markdown",
   "metadata": {
    "collapsed": false
   },
   "source": [
    "## 本人介绍\n",
    " AI爱好者一枚，欢迎互相关注：\n",
    " https://aistudio.baidu.com/aistudio/personalcenter/thirdview/329995"
   ]
  }
 ],
 "metadata": {
  "kernelspec": {
   "display_name": "PaddlePaddle 1.8.0 (Python 3.5)",
   "language": "python",
   "name": "py35-paddle1.2.0"
  },
  "language_info": {
   "codemirror_mode": {
    "name": "ipython",
    "version": 3
   },
   "file_extension": ".py",
   "mimetype": "text/x-python",
   "name": "python",
   "nbconvert_exporter": "python",
   "pygments_lexer": "ipython3",
   "version": "3.7.4"
  }
 },
 "nbformat": 4,
 "nbformat_minor": 1
}
